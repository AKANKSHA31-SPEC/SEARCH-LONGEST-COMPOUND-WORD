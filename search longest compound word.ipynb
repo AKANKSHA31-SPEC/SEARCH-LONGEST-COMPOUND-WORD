{
 "cells": [
  {
   "cell_type": "markdown",
   "metadata": {},
   "source": [
    "#                    SEARCH LONGEST COMPOUND WORD"
   ]
  },
  {
   "cell_type": "code",
   "execution_count": 1,
   "metadata": {},
   "outputs": [
    {
     "name": "stdout",
     "output_type": "stream",
     "text": [
      "Elapsed time: 2.140625 2.140625\n",
      "Time taken to process file Input_02.txt : 0.0\n",
      "('ethylenediaminetetraacetates', 'electroencephalographically')\n"
     ]
    }
   ],
   "source": [
    "from time import process_time                  # used this function to compute the time(s) involved in complete program.\n",
    "def compund_word(filename):                   #compound_word is a main filename in which I have done all process i.e. search longest compoundword, second longest compond word and time involved for complete all process.\n",
    "    t1_start=process_time()                    #Initial stage for searching the longest and second longest compound word.\n",
    "    def long_word(filename):                   #long_word is a sub filename for searching the first longest compound word\n",
    "         with open(filename,'r') as allias:    # use r for read the input file Input_02.txt \n",
    "            words=allias.read().split()        #split(): split a given data(Input_o2.txt) into a list.\n",
    "            words.sort(key=len, reverse=True)  # for arranging the element in descending order\n",
    "            return words[0]\n",
    "          \n",
    "\n",
    "    def find_second_longest(filename):          #find_second_longest is a sub filename for searching a second longest compound word\n",
    "        with open(filename, 'r') as allias:\n",
    "            words=allias.read().split()\n",
    "            words.sort(key=len, reverse=True)   #for arranging the element in descending order\n",
    "            return words[1]\n",
    "    t1_stop=process_time()                      #ending time to perform the process\n",
    "    print(\"Elapsed time:\", t1_stop, t1_start)\n",
    "    print(\"Time taken to process file Input_02.txt :\",(t1_stop-t1_start)*1000)          #Calculate the time for entire the process\n",
    "    return long_word(filename), find_second_longest(filename)\n",
    "    \n",
    "\n",
    "print(compund_word('Input_02.txt'))\n",
    "\n"
   ]
  },
  {
   "cell_type": "code",
   "execution_count": 2,
   "metadata": {},
   "outputs": [
    {
     "name": "stdout",
     "output_type": "stream",
     "text": [
      "Elapsed time: 2.390625 2.390625\n",
      "Time taken to process file Input_01.txt : 0.0\n",
      "('catxdogcatsrat', 'ratcatdogcat')\n"
     ]
    }
   ],
   "source": [
    "from time import process_time             # used this function to compute the time(s) involved in complete program.\n",
    "def compund_word(filename):               #compound_word is a main filename in which I have done all process i.e. search longest compound\n",
    "                                              #word, second longest compond word and time involved for complete all process.\n",
    "    t1_start=process_time()                   #Initial stage for searching the longest and second longest compound word.\n",
    "    def long_word(filename):               #long_word is a sub filename for searching the first longest compound word.\n",
    "        with open(filename,'r') as allias:  # use r for read the input file Input_01.txt.\n",
    "            words=allias.read().split()      #split(): split a given data(Input_o2.txt) into a list.\n",
    "            words.sort(key=len, reverse=True) # for arranging the element in descending order\n",
    "            return words[0]\n",
    "\n",
    "    def find_second_longest(filename):        #find_second_longest is a sub filename for searching a second longest compound word\n",
    "        with open(filename) as allias:\n",
    "            words = allias.read().split()\n",
    "            words.sort(key=len, reverse=True)    #sort(): This method use for sorts the list ascending by default but \n",
    "                                                    #i am using this code(words.sort(key=len, reverse=True)\n",
    "                                                     # for arranging the list in descending order.\n",
    "            if len(words[0])==len(words[1]):\n",
    "                return words[2]\n",
    "            else:\n",
    "                return words[1]\n",
    "    t1_stop=process_time()\n",
    "    print(\"Elapsed time:\", t1_stop, t1_start)\n",
    "    print(\"Time taken to process file Input_01.txt :\",(t1_stop-t1_start)*1000)  #Calculate the time for entire the process\n",
    "    return long_word(filename), find_second_longest(filename)\n",
    "    \n",
    "print(compund_word('Input_01.txt'))\n"
   ]
  },
  {
   "cell_type": "code",
   "execution_count": null,
   "metadata": {},
   "outputs": [],
   "source": []
  },
  {
   "cell_type": "code",
   "execution_count": null,
   "metadata": {},
   "outputs": [],
   "source": []
  }
 ],
 "metadata": {
  "kernelspec": {
   "display_name": "Python 3",
   "language": "python",
   "name": "python3"
  },
  "language_info": {
   "codemirror_mode": {
    "name": "ipython",
    "version": 3
   },
   "file_extension": ".py",
   "mimetype": "text/x-python",
   "name": "python",
   "nbconvert_exporter": "python",
   "pygments_lexer": "ipython3",
   "version": "3.8.5"
  }
 },
 "nbformat": 4,
 "nbformat_minor": 4
}
